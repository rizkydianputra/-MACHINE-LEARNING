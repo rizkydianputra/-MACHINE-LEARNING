{
  "nbformat": 4,
  "nbformat_minor": 0,
  "metadata": {
    "colab": {
      "name": "Linear Regression Using Sklearn.ipynb",
      "provenance": [],
      "authorship_tag": "ABX9TyMWYkm4WJoD9avfeexy95Lh",
      "include_colab_link": true
    },
    "kernelspec": {
      "name": "python3",
      "display_name": "Python 3"
    },
    "language_info": {
      "name": "python"
    }
  },
  "cells": [
    {
      "cell_type": "markdown",
      "metadata": {
        "id": "view-in-github",
        "colab_type": "text"
      },
      "source": [
        "<a href=\"https://colab.research.google.com/github/rizkydianputra/-MACHINE-LEARNING/blob/main/Linear_Regression_Using_Sklearn.ipynb\" target=\"_parent\"><img src=\"https://colab.research.google.com/assets/colab-badge.svg\" alt=\"Open In Colab\"/></a>"
      ]
    },
    {
      "cell_type": "code",
      "metadata": {
        "colab": {
          "base_uri": "https://localhost:8080/"
        },
        "id": "nlhrJ_F4128T",
        "outputId": "5d3bd1cf-1e4c-4755-85ab-1b550c3b057d"
      },
      "source": [
        "from google.colab import drive\n",
        "drive.mount('/content/drive')"
      ],
      "execution_count": 1,
      "outputs": [
        {
          "output_type": "stream",
          "name": "stdout",
          "text": [
            "Mounted at /content/drive\n"
          ]
        }
      ]
    },
    {
      "cell_type": "code",
      "metadata": {
        "id": "3IWlSamg2K6X"
      },
      "source": [
        "import numpy as np # linear algebra\n",
        "import pandas as pd # data processing, CSV file I/O (e.g. pd.read_csv)\n",
        "import matplotlib.pyplot as plt # Plotting and Visualizing data"
      ],
      "execution_count": 2,
      "outputs": []
    },
    {
      "cell_type": "code",
      "metadata": {
        "colab": {
          "base_uri": "https://localhost:8080/"
        },
        "id": "7waLtKLe2Nqo",
        "outputId": "c5c59099-8809-47fe-9e59-129a4b957fef"
      },
      "source": [
        "data = pd.read_csv('/content/drive/MyDrive/PG 2/train.csv')\n",
        "print(data.describe())\n",
        "\n",
        "data = data[data.x <= 100]# Removing any data point above x = 100"
      ],
      "execution_count": 3,
      "outputs": [
        {
          "output_type": "stream",
          "name": "stdout",
          "text": [
            "                 x           y\n",
            "count   700.000000  699.000000\n",
            "mean     54.985939   49.939869\n",
            "std     134.681703   29.109217\n",
            "min       0.000000   -3.839981\n",
            "25%      25.000000   24.929968\n",
            "50%      49.000000   48.973020\n",
            "75%      75.000000   74.929911\n",
            "max    3530.157369  108.871618\n"
          ]
        }
      ]
    },
    {
      "cell_type": "code",
      "metadata": {
        "id": "h6p6pMeT2TxV"
      },
      "source": [
        "x = data.iloc[:, 0:1].values\n",
        "y = data.iloc[:, 1]"
      ],
      "execution_count": 4,
      "outputs": []
    },
    {
      "cell_type": "code",
      "metadata": {
        "colab": {
          "base_uri": "https://localhost:8080/"
        },
        "id": "EntivFHj2Vse",
        "outputId": "d1d1d344-6269-46e2-9b59-cc75147d4d08"
      },
      "source": [
        "# Train Test Split\n",
        "from sklearn.model_selection import train_test_split\n",
        "x_train, x_test, y_train, y_test = train_test_split(x, y, test_size = 0.33)\n",
        "print(x[:10])\n",
        "print('\\n')\n",
        "print(y[:10])"
      ],
      "execution_count": 5,
      "outputs": [
        {
          "output_type": "stream",
          "name": "stdout",
          "text": [
            "[[24.]\n",
            " [50.]\n",
            " [15.]\n",
            " [38.]\n",
            " [87.]\n",
            " [36.]\n",
            " [12.]\n",
            " [81.]\n",
            " [25.]\n",
            " [ 5.]]\n",
            "\n",
            "\n",
            "0    21.549452\n",
            "1    47.464463\n",
            "2    17.218656\n",
            "3    36.586398\n",
            "4    87.288984\n",
            "5    32.463875\n",
            "6    10.780897\n",
            "7    80.763399\n",
            "8    24.612151\n",
            "9     6.963319\n",
            "Name: y, dtype: float64\n"
          ]
        }
      ]
    },
    {
      "cell_type": "code",
      "metadata": {
        "id": "H_J1leME2Xas"
      },
      "source": [
        "from sklearn.linear_model import LinearRegression\n",
        "\n",
        "regressor = LinearRegression()\n",
        "regressor.fit(x_train, y_train)\n",
        "\n",
        "pred = regressor.predict(x_test)"
      ],
      "execution_count": 6,
      "outputs": []
    },
    {
      "cell_type": "code",
      "metadata": {
        "colab": {
          "base_uri": "https://localhost:8080/",
          "height": 312
        },
        "id": "XIhlVsAX2am5",
        "outputId": "621df948-2a68-46a8-db46-ad38514c688f"
      },
      "source": [
        "plt.scatter(x_train, y_train)\n",
        "plt.plot(x_train, regressor.predict(x_train), color='black')\n",
        "plt.title('Fit on training set')\n",
        "plt.xlabel('X-Train')\n",
        "plt.ylabel('Y-Train')"
      ],
      "execution_count": 7,
      "outputs": [
        {
          "output_type": "execute_result",
          "data": {
            "text/plain": [
              "Text(0, 0.5, 'Y-Train')"
            ]
          },
          "metadata": {},
          "execution_count": 7
        },
        {
          "output_type": "display_data",
          "data": {
            "image/png": "[encoded data removed]",
            "text/plain": [
              "<Figure size 432x288 with 1 Axes>"
            ]
          },
          "metadata": {
            "needs_background": "light"
          }
        }
      ]
    },
    {
      "cell_type": "code",
      "metadata": {
        "colab": {
          "base_uri": "https://localhost:8080/",
          "height": 312
        },
        "id": "bfeFMs6E2cnD",
        "outputId": "24cac5a9-71a0-4f17-dbc1-e9865bc52c00"
      },
      "source": [
        "plt.scatter(x_test, y_test, color='r')\n",
        "plt.plot(x_test, pred, color='b')\n",
        "plt.title('Validation set')\n",
        "plt.xlabel('X-Test')\n",
        "plt.ylabel('Y-Test')"
      ],
      "execution_count": 8,
      "outputs": [
        {
          "output_type": "execute_result",
          "data": {
            "text/plain": [
              "Text(0, 0.5, 'Y-Test')"
            ]
          },
          "metadata": {},
          "execution_count": 8
        },
        {
          "output_type": "display_data",
          "data": {
            "image/png": "[encoded data removed]",
            "text/plain": [
              "<Figure size 432x288 with 1 Axes>"
            ]
          },
          "metadata": {
            "needs_background": "light"
          }
        }
      ]
    },
    {
      "cell_type": "code",
      "metadata": {
        "colab": {
          "base_uri": "https://localhost:8080/",
          "height": 295
        },
        "id": "ubYE0f5t2dR-",
        "outputId": "f997a342-753f-4698-a807-5a9b09c3b2eb"
      },
      "source": [
        "test = pd.read_csv('/content/drive/MyDrive/PG 2/train.csv')\n",
        "test.plot.scatter('x', 'y', color='g')\n",
        "plt.plot(test['x'], regressor.predict(test.iloc[:,0:1].values), color='blue')\n",
        "plt.title('Linear Regression Ouput on Test Data Set')\n",
        "plt.xlabel('X-Values')\n",
        "plt.ylabel('Y-Values')\n",
        "plt.show()"
      ],
      "execution_count": 10,
      "outputs": [
        {
          "output_type": "display_data",
          "data": {
            "image/png": "[encoded data removed]",
            "text/plain": [
              "<Figure size 432x288 with 1 Axes>"
            ]
          },
          "metadata": {
            "needs_background": "light"
          }
        }
      ]
    }
  ]
}